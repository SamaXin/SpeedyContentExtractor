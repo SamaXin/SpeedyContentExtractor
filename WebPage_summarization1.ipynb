{
  "nbformat": 4,
  "nbformat_minor": 0,
  "metadata": {
    "colab": {
      "provenance": [],
      "authorship_tag": "ABX9TyNQJn7WxNNVwSgfDr1SCz4g",
      "include_colab_link": true
    },
    "kernelspec": {
      "name": "python3",
      "display_name": "Python 3"
    },
    "language_info": {
      "name": "python"
    }
  },
  "cells": [
    {
      "cell_type": "markdown",
      "metadata": {
        "id": "view-in-github",
        "colab_type": "text"
      },
      "source": [
        "<a href=\"https://colab.research.google.com/github/SamaXin/SpeedyContentExtractor/blob/main/WebPage_summarization1.ipynb\" target=\"_parent\"><img src=\"https://colab.research.google.com/assets/colab-badge.svg\" alt=\"Open In Colab\"/></a>"
      ]
    },
    {
      "cell_type": "code",
      "execution_count": 1,
      "metadata": {
        "id": "XaNf4bPoZRWz"
      },
      "outputs": [],
      "source": [
        "import requests\n",
        "from bs4 import BeautifulSoup\n",
        "from concurrent.futures import ThreadPoolExecutor\n",
        "import spacy\n",
        "from spacy.lang.en.stop_words import STOP_WORDS\n",
        "from heapq import nlargest\n",
        "import time\n",
        "\n",
        "nlp = spacy.load(\"en_core_web_sm\")\n",
        "stopwords = list(STOP_WORDS)\n",
        "cue_phrases = [\"incidentally\", \"example\", \"anyway\", \"furthermore\",\"according\",\"first\", \"second\", \"then\", \"now\", \"thus\", \"moreover\", \"therefore\", \"hence\", \"lastly\", \"finally\", \"summary\"]\n",
        "\n",
        "def get_webpage_text(url):\n",
        "    r = requests.get(url)\n",
        "    soup = BeautifulSoup(r.content, 'html.parser')\n",
        "    webpage_text = \"\"\n",
        "    for para in soup.find_all('p'):\n",
        "        webpage_text += para.get_text()\n",
        "    return webpage_text\n",
        "\n",
        "def summarize_webpage(url):\n",
        "    try:\n",
        "        webpage_text = get_webpage_text(url)\n",
        "        docx = nlp(webpage_text)\n",
        "        word_frequencies = {}\n",
        "        for word in docx:\n",
        "            if word.text.lower() not in stopwords:\n",
        "                if word.text.lower() not in cue_phrases:\n",
        "                    if word.text.lower() not in word_frequencies.keys():\n",
        "                        word_frequencies[word.text.lower()] = 1\n",
        "                    else:\n",
        "                        word_frequencies[word.text.lower()] += 1\n",
        "        maximum_frequency = max(word_frequencies.values())\n",
        "        for word in word_frequencies.keys():\n",
        "            word_frequencies[word] = word_frequencies[word] / maximum_frequency\n",
        "        sentence_list = [sentence for sentence in docx.sents]\n",
        "        sentence_scores = {}\n",
        "        for sent in sentence_list:\n",
        "            for word in sent:\n",
        "                if word.text.lower() in word_frequencies.keys():\n",
        "                    if len(sent.text.split(' ')) < 25:\n",
        "                        if sent not in sentence_scores.keys():\n",
        "                            sentence_scores[sent] = word_frequencies[word.text.lower()]\n",
        "                        else:\n",
        "                            sentence_scores[sent] += word_frequencies[word.text.lower()]\n",
        "        summarized_sentences = nlargest(10, sentence_scores, key=sentence_scores.get)\n",
        "        final_summary = ' '.join([w.text for w in summarized_sentences])\n",
        "        return f\"Summary for URL {url}:\\n{final_summary}\\n\"\n",
        "    except Exception as e:\n",
        "        return f\"An error occurred for URL {url}: {e}\\n\"\n",
        "\n",
        "if __name__ == '__main':\n",
        "    urls = [\n",
        "        \"https://en.wikipedia.org/wiki/History_of_India\",\n",
        "        \"https://en.wikipedia.org/wiki/India\",\n",
        "        \"https://en.wikipedia.org/wiki/Machine_learning\",\n",
        "        \"https://en.wikipedia.org/wiki/Big_data\",\n",
        "        \"https://en.wikipedia.org/wiki/Data_science\",\n",
        "    ]\n",
        "\n",
        "    start_time = time.time()\n",
        "\n",
        "    with ThreadPoolExecutor() as executor:\n",
        "        results = executor.map(summarize_webpage, urls)\n",
        "\n",
        "    for result in results:\n",
        "        print(result, flush=True)\n",
        "\n",
        "    print(f\"Total execution time: {time.time() - start_time} seconds\")"
      ]
    }
  ]
}